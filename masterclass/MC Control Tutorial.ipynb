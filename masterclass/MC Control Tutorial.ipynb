{
 "cells": [
  {
   "cell_type": "markdown",
   "metadata": {},
   "source": [
    "# Monte Carlo Control from scratch in Python and solving Frozen Lake problem."
   ]
  },
  {
   "cell_type": "markdown",
   "metadata": {},
   "source": [
    "In this notebook you will:  \n",
    "\n",
    "1. Implement on-policy first-visit Monte Carlo Control with $\\epsilon$-greedy action selection.  \n",
    "2. Test MC Control on Frozen Lake problem."
   ]
  },
  {
   "cell_type": "markdown",
   "metadata": {},
   "source": [
    "**Monte Carlo Control Pseudocode**:\n",
    "    \n",
    "    \n",
    "Input:  $epsilon$, $gamma$, $n\\_episodes$\n",
    "\n",
    "\n",
    "Initialize for all $s\\in S$ and $a\\in A$:    \n",
    ">$Q(s, a)$ <- arbitrary  \n",
    "    $\\pi(s)$ <- arbitrary\n",
    "\n",
    "Repeat for $n\\_episodes$:  \n",
    ">generate episode following $\\epsilon$-greedy policy  \n",
    "    $Q(s, a)$ <- evaluate policy using first-visit MC method   \n",
    "    $\\pi$ <- improve policy greedily\n",
    "\n",
    " \n",
    "$Q^*(s, a)$ <- $Q(s, a)$  \n",
    "$\\pi^*$  <- $\\pi$ "
   ]
  },
  {
   "cell_type": "markdown",
   "metadata": {},
   "source": [
    "# Packages"
   ]
  },
  {
   "cell_type": "code",
   "execution_count": 140,
   "metadata": {},
   "outputs": [
    {
     "data": {
      "text/html": [
       "\n",
       "    <div class=\"bk-root\">\n",
       "        <a href=\"https://bokeh.org\" target=\"_blank\" class=\"bk-logo bk-logo-small bk-logo-notebook\"></a>\n",
       "        <span id=\"7169\">Loading BokehJS ...</span>\n",
       "    </div>"
      ]
     },
     "metadata": {},
     "output_type": "display_data"
    },
    {
     "data": {
      "application/javascript": [
       "\n",
       "(function(root) {\n",
       "  function now() {\n",
       "    return new Date();\n",
       "  }\n",
       "\n",
       "  var force = true;\n",
       "\n",
       "  if (typeof root._bokeh_onload_callbacks === \"undefined\" || force === true) {\n",
       "    root._bokeh_onload_callbacks = [];\n",
       "    root._bokeh_is_loading = undefined;\n",
       "  }\n",
       "\n",
       "  var JS_MIME_TYPE = 'application/javascript';\n",
       "  var HTML_MIME_TYPE = 'text/html';\n",
       "  var EXEC_MIME_TYPE = 'application/vnd.bokehjs_exec.v0+json';\n",
       "  var CLASS_NAME = 'output_bokeh rendered_html';\n",
       "\n",
       "  /**\n",
       "   * Render data to the DOM node\n",
       "   */\n",
       "  function render(props, node) {\n",
       "    var script = document.createElement(\"script\");\n",
       "    node.appendChild(script);\n",
       "  }\n",
       "\n",
       "  /**\n",
       "   * Handle when an output is cleared or removed\n",
       "   */\n",
       "  function handleClearOutput(event, handle) {\n",
       "    var cell = handle.cell;\n",
       "\n",
       "    var id = cell.output_area._bokeh_element_id;\n",
       "    var server_id = cell.output_area._bokeh_server_id;\n",
       "    // Clean up Bokeh references\n",
       "    if (id != null && id in Bokeh.index) {\n",
       "      Bokeh.index[id].model.document.clear();\n",
       "      delete Bokeh.index[id];\n",
       "    }\n",
       "\n",
       "    if (server_id !== undefined) {\n",
       "      // Clean up Bokeh references\n",
       "      var cmd = \"from bokeh.io.state import curstate; print(curstate().uuid_to_server['\" + server_id + \"'].get_sessions()[0].document.roots[0]._id)\";\n",
       "      cell.notebook.kernel.execute(cmd, {\n",
       "        iopub: {\n",
       "          output: function(msg) {\n",
       "            var id = msg.content.text.trim();\n",
       "            if (id in Bokeh.index) {\n",
       "              Bokeh.index[id].model.document.clear();\n",
       "              delete Bokeh.index[id];\n",
       "            }\n",
       "          }\n",
       "        }\n",
       "      });\n",
       "      // Destroy server and session\n",
       "      var cmd = \"import bokeh.io.notebook as ion; ion.destroy_server('\" + server_id + \"')\";\n",
       "      cell.notebook.kernel.execute(cmd);\n",
       "    }\n",
       "  }\n",
       "\n",
       "  /**\n",
       "   * Handle when a new output is added\n",
       "   */\n",
       "  function handleAddOutput(event, handle) {\n",
       "    var output_area = handle.output_area;\n",
       "    var output = handle.output;\n",
       "\n",
       "    // limit handleAddOutput to display_data with EXEC_MIME_TYPE content only\n",
       "    if ((output.output_type != \"display_data\") || (!Object.prototype.hasOwnProperty.call(output.data, EXEC_MIME_TYPE))) {\n",
       "      return\n",
       "    }\n",
       "\n",
       "    var toinsert = output_area.element.find(\".\" + CLASS_NAME.split(' ')[0]);\n",
       "\n",
       "    if (output.metadata[EXEC_MIME_TYPE][\"id\"] !== undefined) {\n",
       "      toinsert[toinsert.length - 1].firstChild.textContent = output.data[JS_MIME_TYPE];\n",
       "      // store reference to embed id on output_area\n",
       "      output_area._bokeh_element_id = output.metadata[EXEC_MIME_TYPE][\"id\"];\n",
       "    }\n",
       "    if (output.metadata[EXEC_MIME_TYPE][\"server_id\"] !== undefined) {\n",
       "      var bk_div = document.createElement(\"div\");\n",
       "      bk_div.innerHTML = output.data[HTML_MIME_TYPE];\n",
       "      var script_attrs = bk_div.children[0].attributes;\n",
       "      for (var i = 0; i < script_attrs.length; i++) {\n",
       "        toinsert[toinsert.length - 1].firstChild.setAttribute(script_attrs[i].name, script_attrs[i].value);\n",
       "        toinsert[toinsert.length - 1].firstChild.textContent = bk_div.children[0].textContent\n",
       "      }\n",
       "      // store reference to server id on output_area\n",
       "      output_area._bokeh_server_id = output.metadata[EXEC_MIME_TYPE][\"server_id\"];\n",
       "    }\n",
       "  }\n",
       "\n",
       "  function register_renderer(events, OutputArea) {\n",
       "\n",
       "    function append_mime(data, metadata, element) {\n",
       "      // create a DOM node to render to\n",
       "      var toinsert = this.create_output_subarea(\n",
       "        metadata,\n",
       "        CLASS_NAME,\n",
       "        EXEC_MIME_TYPE\n",
       "      );\n",
       "      this.keyboard_manager.register_events(toinsert);\n",
       "      // Render to node\n",
       "      var props = {data: data, metadata: metadata[EXEC_MIME_TYPE]};\n",
       "      render(props, toinsert[toinsert.length - 1]);\n",
       "      element.append(toinsert);\n",
       "      return toinsert\n",
       "    }\n",
       "\n",
       "    /* Handle when an output is cleared or removed */\n",
       "    events.on('clear_output.CodeCell', handleClearOutput);\n",
       "    events.on('delete.Cell', handleClearOutput);\n",
       "\n",
       "    /* Handle when a new output is added */\n",
       "    events.on('output_added.OutputArea', handleAddOutput);\n",
       "\n",
       "    /**\n",
       "     * Register the mime type and append_mime function with output_area\n",
       "     */\n",
       "    OutputArea.prototype.register_mime_type(EXEC_MIME_TYPE, append_mime, {\n",
       "      /* Is output safe? */\n",
       "      safe: true,\n",
       "      /* Index of renderer in `output_area.display_order` */\n",
       "      index: 0\n",
       "    });\n",
       "  }\n",
       "\n",
       "  // register the mime type if in Jupyter Notebook environment and previously unregistered\n",
       "  if (root.Jupyter !== undefined) {\n",
       "    var events = require('base/js/events');\n",
       "    var OutputArea = require('notebook/js/outputarea').OutputArea;\n",
       "\n",
       "    if (OutputArea.prototype.mime_types().indexOf(EXEC_MIME_TYPE) == -1) {\n",
       "      register_renderer(events, OutputArea);\n",
       "    }\n",
       "  }\n",
       "\n",
       "  \n",
       "  if (typeof (root._bokeh_timeout) === \"undefined\" || force === true) {\n",
       "    root._bokeh_timeout = Date.now() + 5000;\n",
       "    root._bokeh_failed_load = false;\n",
       "  }\n",
       "\n",
       "  var NB_LOAD_WARNING = {'data': {'text/html':\n",
       "     \"<div style='background-color: #fdd'>\\n\"+\n",
       "     \"<p>\\n\"+\n",
       "     \"BokehJS does not appear to have successfully loaded. If loading BokehJS from CDN, this \\n\"+\n",
       "     \"may be due to a slow or bad network connection. Possible fixes:\\n\"+\n",
       "     \"</p>\\n\"+\n",
       "     \"<ul>\\n\"+\n",
       "     \"<li>re-rerun `output_notebook()` to attempt to load from CDN again, or</li>\\n\"+\n",
       "     \"<li>use INLINE resources instead, as so:</li>\\n\"+\n",
       "     \"</ul>\\n\"+\n",
       "     \"<code>\\n\"+\n",
       "     \"from bokeh.resources import INLINE\\n\"+\n",
       "     \"output_notebook(resources=INLINE)\\n\"+\n",
       "     \"</code>\\n\"+\n",
       "     \"</div>\"}};\n",
       "\n",
       "  function display_loaded() {\n",
       "    var el = document.getElementById(\"7169\");\n",
       "    if (el != null) {\n",
       "      el.textContent = \"BokehJS is loading...\";\n",
       "    }\n",
       "    if (root.Bokeh !== undefined) {\n",
       "      if (el != null) {\n",
       "        el.textContent = \"BokehJS \" + root.Bokeh.version + \" successfully loaded.\";\n",
       "      }\n",
       "    } else if (Date.now() < root._bokeh_timeout) {\n",
       "      setTimeout(display_loaded, 100)\n",
       "    }\n",
       "  }\n",
       "\n",
       "\n",
       "  function run_callbacks() {\n",
       "    try {\n",
       "      root._bokeh_onload_callbacks.forEach(function(callback) {\n",
       "        if (callback != null)\n",
       "          callback();\n",
       "      });\n",
       "    } finally {\n",
       "      delete root._bokeh_onload_callbacks\n",
       "    }\n",
       "    console.debug(\"Bokeh: all callbacks have finished\");\n",
       "  }\n",
       "\n",
       "  function load_libs(css_urls, js_urls, callback) {\n",
       "    if (css_urls == null) css_urls = [];\n",
       "    if (js_urls == null) js_urls = [];\n",
       "\n",
       "    root._bokeh_onload_callbacks.push(callback);\n",
       "    if (root._bokeh_is_loading > 0) {\n",
       "      console.debug(\"Bokeh: BokehJS is being loaded, scheduling callback at\", now());\n",
       "      return null;\n",
       "    }\n",
       "    if (js_urls == null || js_urls.length === 0) {\n",
       "      run_callbacks();\n",
       "      return null;\n",
       "    }\n",
       "    console.debug(\"Bokeh: BokehJS not loaded, scheduling load and callback at\", now());\n",
       "    root._bokeh_is_loading = css_urls.length + js_urls.length;\n",
       "\n",
       "    function on_load() {\n",
       "      root._bokeh_is_loading--;\n",
       "      if (root._bokeh_is_loading === 0) {\n",
       "        console.debug(\"Bokeh: all BokehJS libraries/stylesheets loaded\");\n",
       "        run_callbacks()\n",
       "      }\n",
       "    }\n",
       "\n",
       "    function on_error(url) {\n",
       "      console.error(\"failed to load \" + url);\n",
       "    }\n",
       "\n",
       "    for (let i = 0; i < css_urls.length; i++) {\n",
       "      const url = css_urls[i];\n",
       "      const element = document.createElement(\"link\");\n",
       "      element.onload = on_load;\n",
       "      element.onerror = on_error.bind(null, url);\n",
       "      element.rel = \"stylesheet\";\n",
       "      element.type = \"text/css\";\n",
       "      element.href = url;\n",
       "      console.debug(\"Bokeh: injecting link tag for BokehJS stylesheet: \", url);\n",
       "      document.body.appendChild(element);\n",
       "    }\n",
       "\n",
       "    const hashes = {\"https://cdn.bokeh.org/bokeh/release/bokeh-2.3.1.min.js\": \"YF85VygJKMVnHE+lLv2AM93Vbstr0yo2TbIu5v8se5Rq3UQAUmcuh4aaJwNlpKwa\", \"https://cdn.bokeh.org/bokeh/release/bokeh-widgets-2.3.1.min.js\": \"KKuas3gevv3PvrlkyCMzffFeaMq5we/a2QsP5AUoS3mJ0jmaCL7jirFJN3GoE/lM\", \"https://cdn.bokeh.org/bokeh/release/bokeh-tables-2.3.1.min.js\": \"MK/uFc3YT18pkvvXRl66tTHjP0/dxoSH2e/eiNMFIguKlun2+WVqaPTWmUy/zvh4\"};\n",
       "\n",
       "    for (let i = 0; i < js_urls.length; i++) {\n",
       "      const url = js_urls[i];\n",
       "      const element = document.createElement('script');\n",
       "      element.onload = on_load;\n",
       "      element.onerror = on_error.bind(null, url);\n",
       "      element.async = false;\n",
       "      element.src = url;\n",
       "      if (url in hashes) {\n",
       "        element.crossOrigin = \"anonymous\";\n",
       "        element.integrity = \"sha384-\" + hashes[url];\n",
       "      }\n",
       "      console.debug(\"Bokeh: injecting script tag for BokehJS library: \", url);\n",
       "      document.head.appendChild(element);\n",
       "    }\n",
       "  };\n",
       "\n",
       "  function inject_raw_css(css) {\n",
       "    const element = document.createElement(\"style\");\n",
       "    element.appendChild(document.createTextNode(css));\n",
       "    document.body.appendChild(element);\n",
       "  }\n",
       "\n",
       "  \n",
       "  var js_urls = [\"https://cdn.bokeh.org/bokeh/release/bokeh-2.3.1.min.js\", \"https://cdn.bokeh.org/bokeh/release/bokeh-widgets-2.3.1.min.js\", \"https://cdn.bokeh.org/bokeh/release/bokeh-tables-2.3.1.min.js\"];\n",
       "  var css_urls = [];\n",
       "  \n",
       "\n",
       "  var inline_js = [\n",
       "    function(Bokeh) {\n",
       "      Bokeh.set_log_level(\"info\");\n",
       "    },\n",
       "    function(Bokeh) {\n",
       "    \n",
       "    \n",
       "    }\n",
       "  ];\n",
       "\n",
       "  function run_inline_js() {\n",
       "    \n",
       "    if (root.Bokeh !== undefined || force === true) {\n",
       "      \n",
       "    for (var i = 0; i < inline_js.length; i++) {\n",
       "      inline_js[i].call(root, root.Bokeh);\n",
       "    }\n",
       "    if (force === true) {\n",
       "        display_loaded();\n",
       "      }} else if (Date.now() < root._bokeh_timeout) {\n",
       "      setTimeout(run_inline_js, 100);\n",
       "    } else if (!root._bokeh_failed_load) {\n",
       "      console.log(\"Bokeh: BokehJS failed to load within specified timeout.\");\n",
       "      root._bokeh_failed_load = true;\n",
       "    } else if (force !== true) {\n",
       "      var cell = $(document.getElementById(\"7169\")).parents('.cell').data().cell;\n",
       "      cell.output_area.append_execute_result(NB_LOAD_WARNING)\n",
       "    }\n",
       "\n",
       "  }\n",
       "\n",
       "  if (root._bokeh_is_loading === 0) {\n",
       "    console.debug(\"Bokeh: BokehJS loaded, going straight to plotting\");\n",
       "    run_inline_js();\n",
       "  } else {\n",
       "    load_libs(css_urls, js_urls, function() {\n",
       "      console.debug(\"Bokeh: BokehJS plotting callback run at\", now());\n",
       "      run_inline_js();\n",
       "    });\n",
       "  }\n",
       "}(window));"
      ],
      "application/vnd.bokehjs_load.v0+json": "\n(function(root) {\n  function now() {\n    return new Date();\n  }\n\n  var force = true;\n\n  if (typeof root._bokeh_onload_callbacks === \"undefined\" || force === true) {\n    root._bokeh_onload_callbacks = [];\n    root._bokeh_is_loading = undefined;\n  }\n\n  \n\n  \n  if (typeof (root._bokeh_timeout) === \"undefined\" || force === true) {\n    root._bokeh_timeout = Date.now() + 5000;\n    root._bokeh_failed_load = false;\n  }\n\n  var NB_LOAD_WARNING = {'data': {'text/html':\n     \"<div style='background-color: #fdd'>\\n\"+\n     \"<p>\\n\"+\n     \"BokehJS does not appear to have successfully loaded. If loading BokehJS from CDN, this \\n\"+\n     \"may be due to a slow or bad network connection. Possible fixes:\\n\"+\n     \"</p>\\n\"+\n     \"<ul>\\n\"+\n     \"<li>re-rerun `output_notebook()` to attempt to load from CDN again, or</li>\\n\"+\n     \"<li>use INLINE resources instead, as so:</li>\\n\"+\n     \"</ul>\\n\"+\n     \"<code>\\n\"+\n     \"from bokeh.resources import INLINE\\n\"+\n     \"output_notebook(resources=INLINE)\\n\"+\n     \"</code>\\n\"+\n     \"</div>\"}};\n\n  function display_loaded() {\n    var el = document.getElementById(\"7169\");\n    if (el != null) {\n      el.textContent = \"BokehJS is loading...\";\n    }\n    if (root.Bokeh !== undefined) {\n      if (el != null) {\n        el.textContent = \"BokehJS \" + root.Bokeh.version + \" successfully loaded.\";\n      }\n    } else if (Date.now() < root._bokeh_timeout) {\n      setTimeout(display_loaded, 100)\n    }\n  }\n\n\n  function run_callbacks() {\n    try {\n      root._bokeh_onload_callbacks.forEach(function(callback) {\n        if (callback != null)\n          callback();\n      });\n    } finally {\n      delete root._bokeh_onload_callbacks\n    }\n    console.debug(\"Bokeh: all callbacks have finished\");\n  }\n\n  function load_libs(css_urls, js_urls, callback) {\n    if (css_urls == null) css_urls = [];\n    if (js_urls == null) js_urls = [];\n\n    root._bokeh_onload_callbacks.push(callback);\n    if (root._bokeh_is_loading > 0) {\n      console.debug(\"Bokeh: BokehJS is being loaded, scheduling callback at\", now());\n      return null;\n    }\n    if (js_urls == null || js_urls.length === 0) {\n      run_callbacks();\n      return null;\n    }\n    console.debug(\"Bokeh: BokehJS not loaded, scheduling load and callback at\", now());\n    root._bokeh_is_loading = css_urls.length + js_urls.length;\n\n    function on_load() {\n      root._bokeh_is_loading--;\n      if (root._bokeh_is_loading === 0) {\n        console.debug(\"Bokeh: all BokehJS libraries/stylesheets loaded\");\n        run_callbacks()\n      }\n    }\n\n    function on_error(url) {\n      console.error(\"failed to load \" + url);\n    }\n\n    for (let i = 0; i < css_urls.length; i++) {\n      const url = css_urls[i];\n      const element = document.createElement(\"link\");\n      element.onload = on_load;\n      element.onerror = on_error.bind(null, url);\n      element.rel = \"stylesheet\";\n      element.type = \"text/css\";\n      element.href = url;\n      console.debug(\"Bokeh: injecting link tag for BokehJS stylesheet: \", url);\n      document.body.appendChild(element);\n    }\n\n    const hashes = {\"https://cdn.bokeh.org/bokeh/release/bokeh-2.3.1.min.js\": \"YF85VygJKMVnHE+lLv2AM93Vbstr0yo2TbIu5v8se5Rq3UQAUmcuh4aaJwNlpKwa\", \"https://cdn.bokeh.org/bokeh/release/bokeh-widgets-2.3.1.min.js\": \"KKuas3gevv3PvrlkyCMzffFeaMq5we/a2QsP5AUoS3mJ0jmaCL7jirFJN3GoE/lM\", \"https://cdn.bokeh.org/bokeh/release/bokeh-tables-2.3.1.min.js\": \"MK/uFc3YT18pkvvXRl66tTHjP0/dxoSH2e/eiNMFIguKlun2+WVqaPTWmUy/zvh4\"};\n\n    for (let i = 0; i < js_urls.length; i++) {\n      const url = js_urls[i];\n      const element = document.createElement('script');\n      element.onload = on_load;\n      element.onerror = on_error.bind(null, url);\n      element.async = false;\n      element.src = url;\n      if (url in hashes) {\n        element.crossOrigin = \"anonymous\";\n        element.integrity = \"sha384-\" + hashes[url];\n      }\n      console.debug(\"Bokeh: injecting script tag for BokehJS library: \", url);\n      document.head.appendChild(element);\n    }\n  };\n\n  function inject_raw_css(css) {\n    const element = document.createElement(\"style\");\n    element.appendChild(document.createTextNode(css));\n    document.body.appendChild(element);\n  }\n\n  \n  var js_urls = [\"https://cdn.bokeh.org/bokeh/release/bokeh-2.3.1.min.js\", \"https://cdn.bokeh.org/bokeh/release/bokeh-widgets-2.3.1.min.js\", \"https://cdn.bokeh.org/bokeh/release/bokeh-tables-2.3.1.min.js\"];\n  var css_urls = [];\n  \n\n  var inline_js = [\n    function(Bokeh) {\n      Bokeh.set_log_level(\"info\");\n    },\n    function(Bokeh) {\n    \n    \n    }\n  ];\n\n  function run_inline_js() {\n    \n    if (root.Bokeh !== undefined || force === true) {\n      \n    for (var i = 0; i < inline_js.length; i++) {\n      inline_js[i].call(root, root.Bokeh);\n    }\n    if (force === true) {\n        display_loaded();\n      }} else if (Date.now() < root._bokeh_timeout) {\n      setTimeout(run_inline_js, 100);\n    } else if (!root._bokeh_failed_load) {\n      console.log(\"Bokeh: BokehJS failed to load within specified timeout.\");\n      root._bokeh_failed_load = true;\n    } else if (force !== true) {\n      var cell = $(document.getElementById(\"7169\")).parents('.cell').data().cell;\n      cell.output_area.append_execute_result(NB_LOAD_WARNING)\n    }\n\n  }\n\n  if (root._bokeh_is_loading === 0) {\n    console.debug(\"Bokeh: BokehJS loaded, going straight to plotting\");\n    run_inline_js();\n  } else {\n    load_libs(css_urls, js_urls, function() {\n      console.debug(\"Bokeh: BokehJS plotting callback run at\", now());\n      run_inline_js();\n    });\n  }\n}(window));"
     },
     "metadata": {},
     "output_type": "display_data"
    }
   ],
   "source": [
    "import gym\n",
    "import numpy as np\n",
    "import random\n",
    "import itertools\n",
    "import time\n",
    "\n",
    "from bokeh.plotting import figure, show\n",
    "from bokeh.io import output_notebook\n",
    "\n",
    "\n",
    "output_notebook()"
   ]
  },
  {
   "cell_type": "code",
   "execution_count": 143,
   "metadata": {},
   "outputs": [
    {
     "name": "stdout",
     "output_type": "stream",
     "text": [
      "matplotlib: 1.19.4\n"
     ]
    }
   ],
   "source": [
    "import random\n",
    "print('matplotlib: {}'. format(numpy. __version__))"
   ]
  },
  {
   "cell_type": "markdown",
   "metadata": {},
   "source": [
    "# MC Control Implementation"
   ]
  },
  {
   "cell_type": "markdown",
   "metadata": {},
   "source": [
    "We will create class called MC control"
   ]
  },
  {
   "cell_type": "code",
   "execution_count": 90,
   "metadata": {},
   "outputs": [],
   "source": [
    "class MCControl:\n",
    "    '''Implements Monte Carlo Control.'''\n",
    "    def __init__(self, env, num_states, num_actions, epsilon, gamma):\n",
    "        '''Parameters\n",
    "        ----------\n",
    "        env:         open gym environment object\n",
    "        num_states:  integer, number of states in the environment\n",
    "        num_actions: integer, number of possible actions\n",
    "        epsilon:     float, the epsilon parameter used for exploration\n",
    "        gamma:       float, discount factor\n",
    "        '''\n",
    "        self.env = env\n",
    "        self.num_states = num_states\n",
    "        self.num_actions = num_actions\n",
    "        self.epsilon = epsilon\n",
    "        self.gamma = gamma\n",
    "\n",
    "    def init_agent(self):\n",
    "        '''Initializes RL agent components:\n",
    "        self.policy:      list of integers of length self.num_states, the action to take at a given state\n",
    "        self.Q:           nested dictionary {state: {action: q value}}, action value function\n",
    "        self.visit_count: nested dictionary {state: {action: count}}, keeps track of how many episodes\n",
    "                          state and action pair were visited for a first time in every episode\n",
    "        '''\n",
    "        # --------------------------\n",
    "        # Randomly initialize policy, use numpy random.choice method:\n",
    "        # your code here (1 line)\n",
    "        self.policy = np.random.choice(num_actions, num_states)\n",
    "        # --------------------------\n",
    "\n",
    "        self.Q = {}\n",
    "        self.visit_count = {}\n",
    "\n",
    "        for state in range(self.num_states):\n",
    "            self.Q[state] = {}\n",
    "            self.visit_count[state] = {}\n",
    "            for action in range(self.num_actions):\n",
    "                # --------------------------\n",
    "                # Initalize action value (self.Q) and visit count (self.visit_count) dictionaries to zero:\n",
    "                # your code here (~ 2 lines)\n",
    "                self.Q[state][action] = 0\n",
    "                self.visit_count[state][action] = 0\n",
    "                # --------------------------\n",
    "\n",
    "\n",
    "    def generate_episode(self, policy):\n",
    "        '''Generates episode given current policy.\n",
    "        \n",
    "        Parameters\n",
    "        ----------\n",
    "        policy: list of integers of length self.num_states, the action to take at a given state\n",
    "        \n",
    "        Returns\n",
    "        ----------\n",
    "        G: float, episode return (total discounted reward)\n",
    "        state_action_reward: list of tuple (state, action, reward), excludes terminal one\n",
    "        '''\n",
    "        G = 0\n",
    "        s = env.reset()\n",
    "        a = self.get_epsilon_greedy_action(policy[s])\n",
    "\n",
    "        state_action_reward = [(s, a, 0)]\n",
    "        while True:\n",
    "            s, r, terminated, _ = env.step(a)\n",
    "            if terminated:\n",
    "                state_action_reward.append((s, None, r))\n",
    "                break\n",
    "            else:\n",
    "                a = self.get_epsilon_greedy_action(policy[s])\n",
    "                state_action_reward.append((s, a, r))\n",
    "\n",
    "        # --------------------------\n",
    "        # Calculate G:\n",
    "        # your code here (~ 4 lines)\n",
    "        t = 1\n",
    "        for _, _, reward in state_action_reward:\n",
    "            G += self.gamma ** (t - 1) * reward\n",
    "            t += 1\n",
    "        # --------------------------\n",
    "\n",
    "        return G, state_action_reward[:-1]\n",
    "\n",
    "    def argmax(self, Q, policy):\n",
    "        \"\"\"\n",
    "        Finds and returns greedy policy.\n",
    "\n",
    "        Parameters\n",
    "        ----------\n",
    "        Q: nested dictionary {state: {action: q value}}, action value function\n",
    "        policy: list of integers of length self.num_states containing last actions per state\n",
    "        \n",
    "        Returns\n",
    "        ----------\n",
    "        next_policy: list of integers of length self.num_states containing next actions with a highest value per state \n",
    "\n",
    "        \"\"\"\n",
    "        next_policy = policy\n",
    "        \n",
    "        for state in range(self.num_states):\n",
    "            best_action = None\n",
    "            best_value = float('-inf')\n",
    "            # --------------------------\n",
    "            # Find greedy action to take in every state and assign to policy[state]:\n",
    "            # your code here (~ 5 lines)\n",
    "            for action, value in Q[state].items():\n",
    "                if value > best_value:\n",
    "                    best_value = value\n",
    "                    best_action = action\n",
    "            next_policy[state] = best_action\n",
    "            # --------------------------\n",
    "\n",
    "        return next_policy\n",
    "\n",
    "    def get_epsilon_greedy_action(self, greedy_action):\n",
    "        '''Returns next action using epsilon greedy approach.\n",
    "        \n",
    "        Parameters\n",
    "        ----------\n",
    "        greedy_action: integer, greedy action (action with a maximum Q value)\n",
    "        \n",
    "        Returns\n",
    "        ----------\n",
    "        next_action: integer, either greedy or random action\n",
    "        '''   \n",
    "        prob = np.random.random()\n",
    "\n",
    "        if prob < 1 - self.epsilon:\n",
    "            return greedy_action\n",
    "\n",
    "        return np.random.randint(0, self.num_actions)\n",
    "    \n",
    "    def improve_policy(self):\n",
    "        '''Improves and updates current policy self.policy using epsilon greedy approach.'''\n",
    "        self.policy = self.argmax(self.Q, self.policy)\n",
    "        \n",
    "    def evaluate_policy(self, G, state_action_reward):\n",
    "        '''Evaluates current policy using incremental mean and updates action value function self.Q.\n",
    "\n",
    "        Parameters\n",
    "        ----------\n",
    "        G: float, episode return (total discounted reward)\n",
    "        state_action_reward: list of tuple (state, action, reward)\n",
    "        '''\n",
    "        seen_state_action = set()\n",
    "\n",
    "        for state, action, _ in state_action_reward:\n",
    "            #  if we see step and action pair for a first time in episode\n",
    "            if (state, action) not in seen_state_action:\n",
    "                self.visit_count[state][action] += 1\n",
    "                # --------------------------\n",
    "                # Calculate action value for current state and action\n",
    "                # your code here (1 line)\n",
    "                self.Q[state][action] += (G - self.Q[state][action]) / self.visit_count[state][action]\n",
    "                # --------------------------\n",
    "                seen_state_action.add((state, action))\n",
    "\n",
    "    def run_mc_control(self, num_episodes, verbose=True):\n",
    "        '''Performs Monte Carlo control task.\n",
    "        \n",
    "        Parameters\n",
    "        ----------\n",
    "        num_episodes: integer, number of episodes to run to train RL agent\n",
    "        \n",
    "        Returns\n",
    "        ----------\n",
    "        self.Q:              nested dictionary {state: {action: q value}}, final action value function\n",
    "        self.policy:         list of integers of length self.num_states, final policy\n",
    "        rewards_per_episode: numpy array of rewards collected at each episode\n",
    "        '''\n",
    "        self.init_agent()\n",
    "        \n",
    "        rewards_per_episode = np.array([None] * num_episodes)\n",
    "        episode_len = np.array([None] * num_episodes)\n",
    "\n",
    "        for episode in range(num_episodes):\n",
    "            G, state_action_reward = self.generate_episode(self.policy)\n",
    "            self.evaluate_policy(G, state_action_reward)\n",
    "            self.improve_policy()\n",
    "            \n",
    "            # Logging rewards and episode length\n",
    "            rewards_per_episode[episode] = G\n",
    "            episode_len = len(state_action_reward)\n",
    "            \n",
    "        if verbose:\n",
    "            print (f\"Finished training RL agent for {num_episodes} episodes!\")\n",
    "        \n",
    "        return self.Q, self.policy, rewards_per_episode, episode_len\n"
   ]
  },
  {
   "cell_type": "markdown",
   "metadata": {},
   "source": [
    "# Tests"
   ]
  },
  {
   "cell_type": "markdown",
   "metadata": {},
   "source": [
    "Test `init_agent`"
   ]
  },
  {
   "cell_type": "code",
   "execution_count": 94,
   "metadata": {},
   "outputs": [],
   "source": [
    "np.random.seed(1)\n",
    "\n",
    "epsilon = 0.4\n",
    "gamma = 0.9\n",
    "n_episodes = 10000\n",
    "\n",
    "env = None\n",
    "num_states = 2\n",
    "num_actions = 3\n",
    "\n",
    "mc_model = MCControl(env, num_states, num_actions, epsilon, gamma)\n",
    "\n",
    "mc_model.init_agent()\n",
    "assert np.all(mc_model.policy == np.array([1, 0]))\n",
    "assert mc_model.Q == {0: {0: 0, 1: 0, 2: 0}, 1: {0: 0, 1: 0, 2: 0}}\n",
    "assert mc_model.visit_count == {0: {0: 0, 1: 0, 2: 0}, 1: {0: 0, 1: 0, 2: 0}}"
   ]
  },
  {
   "cell_type": "markdown",
   "metadata": {},
   "source": [
    "Test `generate_episode`"
   ]
  },
  {
   "cell_type": "code",
   "execution_count": 95,
   "metadata": {},
   "outputs": [],
   "source": [
    "np.random.seed(1)\n",
    "\n",
    "epsilon = 0.4\n",
    "gamma = 0.9\n",
    "n_episodes = 10000\n",
    "\n",
    "env = gym.make('FrozenLake-v0')\n",
    "env.seed(2)\n",
    "num_states = env.observation_space.n\n",
    "num_actions = env.action_space.n\n",
    "\n",
    "\n",
    "mc_model = MCControl(env, num_states, num_actions, epsilon, gamma)\n",
    "\n",
    "policy = np.array([1, 1, 1, 1, 0, 0, 2, 2, 3, 3, 1, 1, 2, 2, 3, 3])\n",
    "res = mc_model.generate_episode(policy)\n",
    "\n",
    "assert res == (0.0, [(0, 1, 0), (4, 3, 0.0), (0, 1, 0.0), (1, 0, 0.0)])"
   ]
  },
  {
   "cell_type": "markdown",
   "metadata": {},
   "source": [
    "Test `evaluate_policy`"
   ]
  },
  {
   "cell_type": "code",
   "execution_count": 131,
   "metadata": {},
   "outputs": [],
   "source": [
    "np.random.seed(1)\n",
    "\n",
    "epsilon = 0.4\n",
    "gamma = 1.0\n",
    "n_episodes = 10000\n",
    "\n",
    "env = gym.make('FrozenLake-v0')\n",
    "env.seed(2)\n",
    "num_states = env.observation_space.n\n",
    "num_actions = env.action_space.n\n",
    "\n",
    "mc_model = MCControl(env, num_states, num_actions, epsilon, gamma)\n",
    "mc_model.init_agent()\n",
    "G = 1\n",
    "state_action_reward = [(0, 1, 1.0), (4, 3, 0.0), (0, 1, 0.0), (1, 3, 0.0), (0, 1, 0.0), (4, 3, 0.0)]\n",
    "\n",
    "mc_model.evaluate_policy(G, state_action_reward)\n",
    "\n",
    "res_Q = {0: {0: 0, 1: 1.0, 2: 0, 3: 0},\n",
    "         1: {0: 0, 1: 0, 2: 0, 3: 1.0},\n",
    "         2: {0: 0, 1: 0, 2: 0, 3: 0},\n",
    "         3: {0: 0, 1: 0, 2: 0, 3: 0},\n",
    "         4: {0: 0, 1: 0, 2: 0, 3: 1.0},\n",
    "         5: {0: 0, 1: 0, 2: 0, 3: 0},\n",
    "         6: {0: 0, 1: 0, 2: 0, 3: 0},\n",
    "         7: {0: 0, 1: 0, 2: 0, 3: 0},\n",
    "         8: {0: 0, 1: 0, 2: 0, 3: 0},\n",
    "         9: {0: 0, 1: 0, 2: 0, 3: 0},\n",
    "         10: {0: 0, 1: 0, 2: 0, 3: 0},\n",
    "         11: {0: 0, 1: 0, 2: 0, 3: 0},\n",
    "         12: {0: 0, 1: 0, 2: 0, 3: 0},\n",
    "         13: {0: 0, 1: 0, 2: 0, 3: 0},\n",
    "         14: {0: 0, 1: 0, 2: 0, 3: 0},\n",
    "         15: {0: 0, 1: 0, 2: 0, 3: 0}}\n",
    "\n",
    "assert mc_model.Q == res_Q\n",
    "\n",
    "res_visit_count = {0: {0: 0, 1: 1, 2: 0, 3: 0},\n",
    "                   1: {0: 0, 1: 0, 2: 0, 3: 1},\n",
    "                   2: {0: 0, 1: 0, 2: 0, 3: 0},\n",
    "                   3: {0: 0, 1: 0, 2: 0, 3: 0},\n",
    "                   4: {0: 0, 1: 0, 2: 0, 3: 1},\n",
    "                   5: {0: 0, 1: 0, 2: 0, 3: 0},\n",
    "                   6: {0: 0, 1: 0, 2: 0, 3: 0},\n",
    "                   7: {0: 0, 1: 0, 2: 0, 3: 0},\n",
    "                   8: {0: 0, 1: 0, 2: 0, 3: 0},\n",
    "                   9: {0: 0, 1: 0, 2: 0, 3: 0},\n",
    "                   10: {0: 0, 1: 0, 2: 0, 3: 0},\n",
    "                   11: {0: 0, 1: 0, 2: 0, 3: 0},\n",
    "                   12: {0: 0, 1: 0, 2: 0, 3: 0},\n",
    "                   13: {0: 0, 1: 0, 2: 0, 3: 0},\n",
    "                   14: {0: 0, 1: 0, 2: 0, 3: 0},\n",
    "                   15: {0: 0, 1: 0, 2: 0, 3: 0}}\n",
    "assert mc_model.visit_count == res_visit_count"
   ]
  },
  {
   "cell_type": "markdown",
   "metadata": {},
   "source": [
    "Test `argmax`"
   ]
  },
  {
   "cell_type": "code",
   "execution_count": 132,
   "metadata": {},
   "outputs": [
    {
     "data": {
      "text/plain": [
       "array([1, 3, 0, 0, 3, 1, 3, 1, 3, 0, 0, 1, 0, 3, 1, 0])"
      ]
     },
     "execution_count": 132,
     "metadata": {},
     "output_type": "execute_result"
    }
   ],
   "source": [
    "mc_model.policy"
   ]
  },
  {
   "cell_type": "code",
   "execution_count": 133,
   "metadata": {},
   "outputs": [
    {
     "data": {
      "text/plain": [
       "{0: {0: 0, 1: 1.0, 2: 0, 3: 0},\n",
       " 1: {0: 0, 1: 0, 2: 0, 3: 1.0},\n",
       " 2: {0: 0, 1: 0, 2: 0, 3: 0},\n",
       " 3: {0: 0, 1: 0, 2: 0, 3: 0},\n",
       " 4: {0: 0, 1: 0, 2: 0, 3: 1.0},\n",
       " 5: {0: 0, 1: 0, 2: 0, 3: 0},\n",
       " 6: {0: 0, 1: 0, 2: 0, 3: 0},\n",
       " 7: {0: 0, 1: 0, 2: 0, 3: 0},\n",
       " 8: {0: 0, 1: 0, 2: 0, 3: 0},\n",
       " 9: {0: 0, 1: 0, 2: 0, 3: 0},\n",
       " 10: {0: 0, 1: 0, 2: 0, 3: 0},\n",
       " 11: {0: 0, 1: 0, 2: 0, 3: 0},\n",
       " 12: {0: 0, 1: 0, 2: 0, 3: 0},\n",
       " 13: {0: 0, 1: 0, 2: 0, 3: 0},\n",
       " 14: {0: 0, 1: 0, 2: 0, 3: 0},\n",
       " 15: {0: 0, 1: 0, 2: 0, 3: 0}}"
      ]
     },
     "execution_count": 133,
     "metadata": {},
     "output_type": "execute_result"
    }
   ],
   "source": [
    "mc_model.Q"
   ]
  },
  {
   "cell_type": "code",
   "execution_count": 134,
   "metadata": {},
   "outputs": [],
   "source": [
    "next_policy = mc_model.argmax(mc_model.Q, mc_model.policy)"
   ]
  },
  {
   "cell_type": "code",
   "execution_count": 135,
   "metadata": {},
   "outputs": [
    {
     "data": {
      "text/plain": [
       "array([1, 3, 0, 0, 3, 0, 0, 0, 0, 0, 0, 0, 0, 0, 0, 0])"
      ]
     },
     "execution_count": 135,
     "metadata": {},
     "output_type": "execute_result"
    }
   ],
   "source": [
    "next_policy"
   ]
  },
  {
   "cell_type": "code",
   "execution_count": 138,
   "metadata": {},
   "outputs": [],
   "source": [
    "np.random.seed(1)\n",
    "\n",
    "epsilon = 0.4\n",
    "gamma = 0.9\n",
    "n_episodes = 10000\n",
    "\n",
    "env = None\n",
    "num_states = 2\n",
    "num_actions = 3\n",
    "\n",
    "mc_model = MCControl(env, num_states, num_actions, epsilon, gamma)\n",
    "\n",
    "Q = {0: {0: 0, 1: 1.0, 2: 0, 3: 0},\n",
    "     1: {0: 0, 1: 0, 2: 0, 3: 1.0},\n",
    "     2: {0: 0, 1: 0, 2: 0, 3: 0},\n",
    "     3: {0: 0, 1: 0, 2: 0, 3: 0},\n",
    "     4: {0: 0, 1: 0, 2: 0, 3: 1.0},\n",
    "     5: {0: 0, 1: 0, 2: 0, 3: 0},\n",
    "     6: {0: 0, 1: 0, 2: 0, 3: 0},\n",
    "     7: {0: 0, 1: 0, 2: 0, 3: 0},\n",
    "     8: {0: 0, 1: 0, 2: 0, 3: 0},\n",
    "     9: {0: 0, 1: 0, 2: 0, 3: 0},\n",
    "     10: {0: 0, 1: 0, 2: 0, 3: 0},\n",
    "     11: {0: 0, 1: 0, 2: 0, 3: 0},\n",
    "     12: {0: 0, 1: 0, 2: 0, 3: 0},\n",
    "     13: {0: 0, 1: 0, 2: 0, 3: 0},\n",
    "     14: {0: 0, 1: 0, 2: 0, 3: 0},\n",
    "     15: {0: 0, 1: 0, 2: 0, 3: 0}}\n",
    "policy = np.array([1, 3, 0, 0, 3, 1, 3, 1, 3, 0, 0, 1, 0, 3, 1, 0])\n",
    "next_policy = mc_model.argmax(Q, policy)\n",
    "\n",
    "#assert np.all(next_policy == np.array([1, 3, 0, 0, 3, 0, 0, 0, 0, 0, 0, 0, 0, 0, 0, 0]))"
   ]
  },
  {
   "cell_type": "code",
   "execution_count": 139,
   "metadata": {},
   "outputs": [
    {
     "data": {
      "text/plain": [
       "array([1, 3, 0, 0, 3, 1, 3, 1, 3, 0, 0, 1, 0, 3, 1, 0])"
      ]
     },
     "execution_count": 139,
     "metadata": {},
     "output_type": "execute_result"
    }
   ],
   "source": [
    "next_policy"
   ]
  },
  {
   "cell_type": "markdown",
   "metadata": {},
   "source": [
    "# Initialize environment and Monte Carlo Class"
   ]
  },
  {
   "cell_type": "code",
   "execution_count": 16,
   "metadata": {},
   "outputs": [],
   "source": [
    "def render_single(env, policy, max_steps=100):\n",
    "    \"\"\"\n",
    "    This function does not need to be modified\n",
    "    Renders policy once on environment. Watch your agent play!\n",
    "\n",
    "    Parameters\n",
    "    ----------\n",
    "    env: gym.core.Environment\n",
    "      Environment to play on. Must have nS, nA, and P as\n",
    "      attributes.\n",
    "    Policy: np.array of shape [env.nS]\n",
    "      The action to take at a given state\n",
    "    \"\"\"\n",
    "    episode_reward = 0\n",
    "    ob = env.reset()\n",
    "    for t in range(max_steps):\n",
    "        env.render()\n",
    "        time.sleep(0.25)\n",
    "        a = policy[ob]\n",
    "        ob, reward, done, _ = env.step(a)\n",
    "        episode_reward += reward\n",
    "        if done:\n",
    "            break\n",
    "    env.render();\n",
    "    if not done:\n",
    "        print(\"The agent didn't reach a terminal state in {} steps.\".format(max_steps))\n",
    "    else:\n",
    "        print(\"Episode reward: %f\" % episode_reward)"
   ]
  },
  {
   "cell_type": "code",
   "execution_count": 29,
   "metadata": {},
   "outputs": [],
   "source": []
  },
  {
   "cell_type": "markdown",
   "metadata": {},
   "source": [
    "# Take MC Control to a Frozen Lake!"
   ]
  },
  {
   "cell_type": "code",
   "execution_count": 71,
   "metadata": {},
   "outputs": [
    {
     "name": "stdout",
     "output_type": "stream",
     "text": [
      "Finished training RL agent for 200 episodes!\n"
     ]
    }
   ],
   "source": [
    "np.random.seed(1)\n",
    "epsilon = 0.8\n",
    "gamma = 1.0\n",
    "n_episodes = 200\n",
    "\n",
    "env.seed(0)\n",
    "env = gym.make('FrozenLake-v0', is_slippery=False)\n",
    "\n",
    "num_states = env.observation_space.n\n",
    "num_actions = env.action_space.n\n",
    "\n",
    "mc_model = MCControl(env, num_states, num_actions, epsilon, gamma)\n",
    "\n",
    "Q, policy, _, _ = mc_model.run_mc_control(n_episodes)"
   ]
  },
  {
   "cell_type": "code",
   "execution_count": 72,
   "metadata": {
    "scrolled": true
   },
   "outputs": [
    {
     "name": "stdout",
     "output_type": "stream",
     "text": [
      "\n",
      "\u001b[41mS\u001b[0mFFF\n",
      "FHFH\n",
      "FFFH\n",
      "HFFG\n",
      "  (Right)\n",
      "S\u001b[41mF\u001b[0mFF\n",
      "FHFH\n",
      "FFFH\n",
      "HFFG\n",
      "  (Right)\n",
      "SF\u001b[41mF\u001b[0mF\n",
      "FHFH\n",
      "FFFH\n",
      "HFFG\n",
      "  (Down)\n",
      "SFFF\n",
      "FH\u001b[41mF\u001b[0mH\n",
      "FFFH\n",
      "HFFG\n",
      "  (Down)\n",
      "SFFF\n",
      "FHFH\n",
      "FF\u001b[41mF\u001b[0mH\n",
      "HFFG\n",
      "  (Down)\n",
      "SFFF\n",
      "FHFH\n",
      "FFFH\n",
      "HF\u001b[41mF\u001b[0mG\n",
      "  (Right)\n",
      "SFFF\n",
      "FHFH\n",
      "FFFH\n",
      "HFF\u001b[41mG\u001b[0m\n",
      "Episode reward: 1.000000\n"
     ]
    }
   ],
   "source": [
    "render_single(env, policy, 200)"
   ]
  },
  {
   "cell_type": "markdown",
   "metadata": {},
   "source": [
    "# Evaluation"
   ]
  },
  {
   "cell_type": "code",
   "execution_count": 81,
   "metadata": {},
   "outputs": [],
   "source": [
    "np.random.seed(1)\n",
    "epsilon = 0.8\n",
    "gamma = 1.0\n",
    "n_episodes = 300\n",
    "\n",
    "num_runs = 25\n",
    "\n",
    "env = gym.make('FrozenLake-v0', is_slippery=False)\n",
    "num_states = env.observation_space.n\n",
    "num_actions = env.action_space.n\n",
    "\n",
    "# every row is the record of rewards by episide per unique run, e.g. rewards_matrix[0, 0] is the rewards obtained in episode 1 of run 1\n",
    "rewards_matrix = [None] * num_runs\n",
    "for i in range(len(rewards_matrix)):\n",
    "    rewards_matrix[i] = [None] * n_episodes\n",
    "\n",
    "rewards_matrix = np.array(rewards_matrix)\n",
    "episode_len_matrix = np.copy(rewards_matrix)\n",
    "    \n",
    "for run in range(num_runs):\n",
    "    env.seed(run)\n",
    "    np.random.seed(run)\n",
    "    mc_model = MCControl(env, num_states, num_actions, epsilon, gamma)\n",
    "    Q, policy, rewards_matrix[run], episode_len_matrix[run] = mc_model.run_mc_control(n_episodes, verbose=False)\n",
    "\n",
    "    \n",
    "avg_rewards_per_episode = rewards_matrix.mean(axis=0)\n",
    "cum_reward = np.cumsum(avg_rewards_per_episode)\n",
    "\n",
    "\n",
    "avg_episode_len = episode_len_matrix.mean(axis=0)"
   ]
  },
  {
   "cell_type": "code",
   "execution_count": 82,
   "metadata": {},
   "outputs": [
    {
     "data": {
      "text/html": [
       "\n",
       "\n",
       "\n",
       "\n",
       "\n",
       "\n",
       "  <div class=\"bk-root\" id=\"866b619d-3042-4c19-93a5-b58325ac61c2\" data-root-id=\"6155\"></div>\n"
      ]
     },
     "metadata": {},
     "output_type": "display_data"
    },
    {
     "data": {
      "application/javascript": [
       "(function(root) {\n",
       "  function embed_document(root) {\n",
       "    \n",
       "  var docs_json = {\"d1b9d794-5fdc-4ece-afbb-5106058c5827\":{\"defs\":[],\"roots\":{\"references\":[{\"attributes\":{\"below\":[{\"id\":\"6166\"}],\"center\":[{\"id\":\"6169\"},{\"id\":\"6173\"}],\"height\":250,\"left\":[{\"id\":\"6170\"}],\"renderers\":[{\"id\":\"6191\"}],\"title\":{\"id\":\"6156\"},\"toolbar\":{\"id\":\"6181\"},\"width\":800,\"x_range\":{\"id\":\"6158\"},\"x_scale\":{\"id\":\"6162\"},\"y_range\":{\"id\":\"6160\"},\"y_scale\":{\"id\":\"6164\"}},\"id\":\"6155\",\"subtype\":\"Figure\",\"type\":\"Plot\"},{\"attributes\":{},\"id\":\"6179\",\"type\":\"HelpTool\"},{\"attributes\":{},\"id\":\"6158\",\"type\":\"DataRange1d\"},{\"attributes\":{},\"id\":\"6171\",\"type\":\"BasicTicker\"},{\"attributes\":{\"data_source\":{\"id\":\"6188\"},\"glyph\":{\"id\":\"6189\"},\"hover_glyph\":null,\"muted_glyph\":null,\"nonselection_glyph\":{\"id\":\"6190\"},\"view\":{\"id\":\"6192\"}},\"id\":\"6191\",\"type\":\"GlyphRenderer\"},{\"attributes\":{},\"id\":\"6162\",\"type\":\"LinearScale\"},{\"attributes\":{},\"id\":\"6178\",\"type\":\"ResetTool\"},{\"attributes\":{\"axis\":{\"id\":\"6166\"},\"ticker\":null},\"id\":\"6169\",\"type\":\"Grid\"},{\"attributes\":{\"line_alpha\":0.1,\"line_color\":\"#1f77b4\",\"line_width\":2,\"x\":{\"field\":\"x\"},\"y\":{\"field\":\"y\"}},\"id\":\"6190\",\"type\":\"Line\"},{\"attributes\":{\"bottom_units\":\"screen\",\"fill_alpha\":0.5,\"fill_color\":\"lightgrey\",\"left_units\":\"screen\",\"level\":\"overlay\",\"line_alpha\":1.0,\"line_color\":\"black\",\"line_dash\":[4,4],\"line_width\":2,\"right_units\":\"screen\",\"syncable\":false,\"top_units\":\"screen\"},\"id\":\"6180\",\"type\":\"BoxAnnotation\"},{\"attributes\":{},\"id\":\"6167\",\"type\":\"BasicTicker\"},{\"attributes\":{},\"id\":\"6427\",\"type\":\"AllLabels\"},{\"attributes\":{},\"id\":\"6174\",\"type\":\"PanTool\"},{\"attributes\":{\"line_color\":\"#1f77b4\",\"line_width\":2,\"x\":{\"field\":\"x\"},\"y\":{\"field\":\"y\"}},\"id\":\"6189\",\"type\":\"Line\"},{\"attributes\":{},\"id\":\"6424\",\"type\":\"AllLabels\"},{\"attributes\":{},\"id\":\"6425\",\"type\":\"BasicTickFormatter\"},{\"attributes\":{},\"id\":\"6432\",\"type\":\"Selection\"},{\"attributes\":{\"active_multi\":null,\"tools\":[{\"id\":\"6174\"},{\"id\":\"6175\"},{\"id\":\"6176\"},{\"id\":\"6177\"},{\"id\":\"6178\"},{\"id\":\"6179\"}]},\"id\":\"6181\",\"type\":\"Toolbar\"},{\"attributes\":{\"overlay\":{\"id\":\"6180\"}},\"id\":\"6176\",\"type\":\"BoxZoomTool\"},{\"attributes\":{\"text\":\"Sum of rewards\"},\"id\":\"6156\",\"type\":\"Title\"},{\"attributes\":{},\"id\":\"6431\",\"type\":\"UnionRenderers\"},{\"attributes\":{},\"id\":\"6164\",\"type\":\"LinearScale\"},{\"attributes\":{},\"id\":\"6177\",\"type\":\"SaveTool\"},{\"attributes\":{},\"id\":\"6160\",\"type\":\"DataRange1d\"},{\"attributes\":{\"axis\":{\"id\":\"6170\"},\"dimension\":1,\"ticker\":null},\"id\":\"6173\",\"type\":\"Grid\"},{\"attributes\":{\"data\":{\"x\":[1,2,3,4,5,6,7,8,9,10,11,12,13,14,15,16,17,18,19,20,21,22,23,24,25,26,27,28,29,30,31,32,33,34,35,36,37,38,39,40,41,42,43,44,45,46,47,48,49,50,51,52,53,54,55,56,57,58,59,60,61,62,63,64,65,66,67,68,69,70,71,72,73,74,75,76,77,78,79,80,81,82,83,84,85,86,87,88,89,90,91,92,93,94,95,96,97,98,99,100,101,102,103,104,105,106,107,108,109,110,111,112,113,114,115,116,117,118,119,120,121,122,123,124,125,126,127,128,129,130,131,132,133,134,135,136,137,138,139,140,141,142,143,144,145,146,147,148,149,150,151,152,153,154,155,156,157,158,159,160,161,162,163,164,165,166,167,168,169,170,171,172,173,174,175,176,177,178,179,180,181,182,183,184,185,186,187,188,189,190,191,192,193,194,195,196,197,198,199,200,201,202,203,204,205,206,207,208,209,210,211,212,213,214,215,216,217,218,219,220,221,222,223,224,225,226,227,228,229,230,231,232,233,234,235,236,237,238,239,240,241,242,243,244,245,246,247,248,249,250,251,252,253,254,255,256,257,258,259,260,261,262,263,264,265,266,267,268,269,270,271,272,273,274,275,276,277,278,279,280,281,282,283,284,285,286,287,288,289,290,291,292,293,294,295,296,297,298,299,300],\"y\":[0.0,0.0,0.0,0.0,0.0,0.0,0.0,0.0,0.0,0.04,0.0,0.0,0.0,0.0,0.0,0.0,0.0,0.04,0.0,0.0,0.0,0.0,0.0,0.04,0.04,0.0,0.0,0.0,0.04,0.04,0.04,0.0,0.0,0.04,0.0,0.0,0.04,0.0,0.0,0.0,0.0,0.0,0.0,0.04,0.0,0.04,0.0,0.04,0.0,0.0,0.0,0.04,0.0,0.04,0.04,0.0,0.0,0.04,0.0,0.0,0.04,0.0,0.04,0.0,0.0,0.04,0.04,0.0,0.0,0.04,0.0,0.04,0.0,0.0,0.04,0.0,0.0,0.04,0.0,0.0,0.0,0.0,0.0,0.0,0.08,0.0,0.0,0.04,0.0,0.04,0.08,0.0,0.04,0.0,0.08,0.04,0.08,0.0,0.12,0.04,0.04,0.08,0.08,0.0,0.0,0.04,0.04,0.0,0.08,0.0,0.04,0.08,0.04,0.0,0.04,0.04,0.08,0.0,0.0,0.08,0.0,0.04,0.12,0.0,0.0,0.04,0.04,0.04,0.04,0.04,0.04,0.0,0.04,0.0,0.04,0.0,0.0,0.04,0.04,0.16,0.04,0.0,0.04,0.08,0.04,0.08,0.08,0.04,0.08,0.04,0.08,0.0,0.12,0.0,0.08,0.0,0.16,0.08,0.12,0.12,0.08,0.04,0.04,0.2,0.0,0.04,0.08,0.04,0.04,0.0,0.04,0.04,0.08,0.0,0.0,0.04,0.0,0.0,0.04,0.0,0.08,0.08,0.0,0.04,0.04,0.12,0.08,0.08,0.0,0.0,0.04,0.04,0.12,0.08,0.08,0.0,0.08,0.08,0.04,0.0,0.12,0.08,0.08,0.04,0.08,0.0,0.12,0.0,0.16,0.04,0.04,0.04,0.0,0.04,0.0,0.04,0.08,0.08,0.12,0.0,0.04,0.08,0.04,0.0,0.08,0.04,0.16,0.0,0.0,0.0,0.08,0.08,0.04,0.08,0.04,0.08,0.0,0.0,0.08,0.04,0.0,0.04,0.04,0.0,0.08,0.08,0.12,0.08,0.12,0.16,0.08,0.08,0.04,0.12,0.08,0.04,0.0,0.04,0.04,0.08,0.04,0.08,0.08,0.08,0.0,0.04,0.04,0.08,0.12,0.08,0.04,0.04,0.08,0.08,0.08,0.04,0.04,0.08,0.08,0.04,0.12,0.04,0.08,0.08,0.0,0.16,0.08,0.16,0.04,0.04,0.16,0.08,0.24,0.08,0.16,0.08,0.08,0.04,0.0,0.08]},\"selected\":{\"id\":\"6432\"},\"selection_policy\":{\"id\":\"6431\"}},\"id\":\"6188\",\"type\":\"ColumnDataSource\"},{\"attributes\":{\"source\":{\"id\":\"6188\"}},\"id\":\"6192\",\"type\":\"CDSView\"},{\"attributes\":{},\"id\":\"6175\",\"type\":\"WheelZoomTool\"},{\"attributes\":{},\"id\":\"6428\",\"type\":\"BasicTickFormatter\"},{\"attributes\":{\"axis_label\":\"Episodes\",\"formatter\":{\"id\":\"6428\"},\"major_label_policy\":{\"id\":\"6427\"},\"ticker\":{\"id\":\"6167\"}},\"id\":\"6166\",\"type\":\"LinearAxis\"},{\"attributes\":{\"axis_label\":\"Average sum of rewards during episode\",\"formatter\":{\"id\":\"6425\"},\"major_label_policy\":{\"id\":\"6424\"},\"ticker\":{\"id\":\"6171\"}},\"id\":\"6170\",\"type\":\"LinearAxis\"}],\"root_ids\":[\"6155\"]},\"title\":\"Bokeh Application\",\"version\":\"2.3.1\"}};\n",
       "  var render_items = [{\"docid\":\"d1b9d794-5fdc-4ece-afbb-5106058c5827\",\"root_ids\":[\"6155\"],\"roots\":{\"6155\":\"866b619d-3042-4c19-93a5-b58325ac61c2\"}}];\n",
       "  root.Bokeh.embed.embed_items_notebook(docs_json, render_items);\n",
       "\n",
       "  }\n",
       "  if (root.Bokeh !== undefined) {\n",
       "    embed_document(root);\n",
       "  } else {\n",
       "    var attempts = 0;\n",
       "    var timer = setInterval(function(root) {\n",
       "      if (root.Bokeh !== undefined) {\n",
       "        clearInterval(timer);\n",
       "        embed_document(root);\n",
       "      } else {\n",
       "        attempts++;\n",
       "        if (attempts > 100) {\n",
       "          clearInterval(timer);\n",
       "          console.log(\"Bokeh: ERROR: Unable to run BokehJS code because BokehJS library is missing\");\n",
       "        }\n",
       "      }\n",
       "    }, 10, root)\n",
       "  }\n",
       "})(window);"
      ],
      "application/vnd.bokehjs_exec.v0+json": ""
     },
     "metadata": {
      "application/vnd.bokehjs_exec.v0+json": {
       "id": "6155"
      }
     },
     "output_type": "display_data"
    }
   ],
   "source": [
    "p = figure(\n",
    "    title=\"Sum of rewards\",\n",
    "    plot_width=800,\n",
    "    plot_height=250,\n",
    "    x_axis_label=\"Episodes\",\n",
    "    y_axis_label=\"Average sum of rewards during episode\"\n",
    ")\n",
    "p.line(range(1, n_episodes + 1), avg_rewards_per_episode, line_width=2)\n",
    "\n",
    "show(p)"
   ]
  },
  {
   "cell_type": "code",
   "execution_count": 83,
   "metadata": {},
   "outputs": [
    {
     "data": {
      "text/html": [
       "\n",
       "\n",
       "\n",
       "\n",
       "\n",
       "\n",
       "  <div class=\"bk-root\" id=\"c8d8382f-0530-4540-ab97-415f13a3100c\" data-root-id=\"6483\"></div>\n"
      ]
     },
     "metadata": {},
     "output_type": "display_data"
    },
    {
     "data": {
      "application/javascript": [
       "(function(root) {\n",
       "  function embed_document(root) {\n",
       "    \n",
       "  var docs_json = {\"ba0dacef-47b9-4eb3-adfd-4fa769f13931\":{\"defs\":[],\"roots\":{\"references\":[{\"attributes\":{\"below\":[{\"id\":\"6494\"}],\"center\":[{\"id\":\"6497\"},{\"id\":\"6501\"}],\"height\":250,\"left\":[{\"id\":\"6498\"}],\"renderers\":[{\"id\":\"6519\"}],\"title\":{\"id\":\"6484\"},\"toolbar\":{\"id\":\"6509\"},\"width\":800,\"x_range\":{\"id\":\"6486\"},\"x_scale\":{\"id\":\"6490\"},\"y_range\":{\"id\":\"6488\"},\"y_scale\":{\"id\":\"6492\"}},\"id\":\"6483\",\"subtype\":\"Figure\",\"type\":\"Plot\"},{\"attributes\":{\"bottom_units\":\"screen\",\"fill_alpha\":0.5,\"fill_color\":\"lightgrey\",\"left_units\":\"screen\",\"level\":\"overlay\",\"line_alpha\":1.0,\"line_color\":\"black\",\"line_dash\":[4,4],\"line_width\":2,\"right_units\":\"screen\",\"syncable\":false,\"top_units\":\"screen\"},\"id\":\"6508\",\"type\":\"BoxAnnotation\"},{\"attributes\":{\"text\":\"Cumulative sum of rewards\"},\"id\":\"6484\",\"type\":\"Title\"},{\"attributes\":{\"axis\":{\"id\":\"6498\"},\"dimension\":1,\"ticker\":null},\"id\":\"6501\",\"type\":\"Grid\"},{\"attributes\":{\"axis_label\":\"Cumulative average sum of rewards\",\"formatter\":{\"id\":\"6763\"},\"major_label_policy\":{\"id\":\"6762\"},\"ticker\":{\"id\":\"6499\"}},\"id\":\"6498\",\"type\":\"LinearAxis\"},{\"attributes\":{\"axis\":{\"id\":\"6494\"},\"ticker\":null},\"id\":\"6497\",\"type\":\"Grid\"},{\"attributes\":{\"axis_label\":\"Episodes\",\"formatter\":{\"id\":\"6766\"},\"major_label_policy\":{\"id\":\"6765\"},\"ticker\":{\"id\":\"6495\"}},\"id\":\"6494\",\"type\":\"LinearAxis\"},{\"attributes\":{},\"id\":\"6502\",\"type\":\"PanTool\"},{\"attributes\":{},\"id\":\"6769\",\"type\":\"UnionRenderers\"},{\"attributes\":{},\"id\":\"6486\",\"type\":\"DataRange1d\"},{\"attributes\":{},\"id\":\"6503\",\"type\":\"WheelZoomTool\"},{\"attributes\":{\"line_alpha\":0.1,\"line_color\":\"#1f77b4\",\"line_width\":2,\"x\":{\"field\":\"x\"},\"y\":{\"field\":\"y\"}},\"id\":\"6518\",\"type\":\"Line\"},{\"attributes\":{},\"id\":\"6499\",\"type\":\"BasicTicker\"},{\"attributes\":{},\"id\":\"6770\",\"type\":\"Selection\"},{\"attributes\":{},\"id\":\"6766\",\"type\":\"BasicTickFormatter\"},{\"attributes\":{},\"id\":\"6488\",\"type\":\"DataRange1d\"},{\"attributes\":{\"source\":{\"id\":\"6516\"}},\"id\":\"6520\",\"type\":\"CDSView\"},{\"attributes\":{},\"id\":\"6492\",\"type\":\"LinearScale\"},{\"attributes\":{\"data\":{\"x\":[1,2,3,4,5,6,7,8,9,10,11,12,13,14,15,16,17,18,19,20,21,22,23,24,25,26,27,28,29,30,31,32,33,34,35,36,37,38,39,40,41,42,43,44,45,46,47,48,49,50,51,52,53,54,55,56,57,58,59,60,61,62,63,64,65,66,67,68,69,70,71,72,73,74,75,76,77,78,79,80,81,82,83,84,85,86,87,88,89,90,91,92,93,94,95,96,97,98,99,100,101,102,103,104,105,106,107,108,109,110,111,112,113,114,115,116,117,118,119,120,121,122,123,124,125,126,127,128,129,130,131,132,133,134,135,136,137,138,139,140,141,142,143,144,145,146,147,148,149,150,151,152,153,154,155,156,157,158,159,160,161,162,163,164,165,166,167,168,169,170,171,172,173,174,175,176,177,178,179,180,181,182,183,184,185,186,187,188,189,190,191,192,193,194,195,196,197,198,199,200,201,202,203,204,205,206,207,208,209,210,211,212,213,214,215,216,217,218,219,220,221,222,223,224,225,226,227,228,229,230,231,232,233,234,235,236,237,238,239,240,241,242,243,244,245,246,247,248,249,250,251,252,253,254,255,256,257,258,259,260,261,262,263,264,265,266,267,268,269,270,271,272,273,274,275,276,277,278,279,280,281,282,283,284,285,286,287,288,289,290,291,292,293,294,295,296,297,298,299,300],\"y\":[0.0,0.0,0.0,0.0,0.0,0.0,0.0,0.0,0.0,0.04,0.04,0.04,0.04,0.04,0.04,0.04,0.04,0.08,0.08,0.08,0.08,0.08,0.08,0.12,0.16,0.16,0.16,0.16,0.2,0.24000000000000002,0.28,0.28,0.28,0.32,0.32,0.32,0.36,0.36,0.36,0.36,0.36,0.36,0.36,0.39999999999999997,0.39999999999999997,0.43999999999999995,0.43999999999999995,0.4799999999999999,0.4799999999999999,0.4799999999999999,0.4799999999999999,0.5199999999999999,0.5199999999999999,0.5599999999999999,0.6,0.6,0.6,0.64,0.64,0.64,0.68,0.68,0.7200000000000001,0.7200000000000001,0.7200000000000001,0.7600000000000001,0.8000000000000002,0.8000000000000002,0.8000000000000002,0.8400000000000002,0.8400000000000002,0.8800000000000002,0.8800000000000002,0.8800000000000002,0.9200000000000003,0.9200000000000003,0.9200000000000003,0.9600000000000003,0.9600000000000003,0.9600000000000003,0.9600000000000003,0.9600000000000003,0.9600000000000003,0.9600000000000003,1.0400000000000003,1.0400000000000003,1.0400000000000003,1.0800000000000003,1.0800000000000003,1.1200000000000003,1.2000000000000004,1.2000000000000004,1.2400000000000004,1.2400000000000004,1.3200000000000005,1.3600000000000005,1.4400000000000006,1.4400000000000006,1.5600000000000005,1.6000000000000005,1.6400000000000006,1.7200000000000006,1.8000000000000007,1.8000000000000007,1.8000000000000007,1.8400000000000007,1.8800000000000008,1.8800000000000008,1.9600000000000009,1.9600000000000009,2.000000000000001,2.080000000000001,2.120000000000001,2.120000000000001,2.160000000000001,2.200000000000001,2.280000000000001,2.280000000000001,2.280000000000001,2.360000000000001,2.360000000000001,2.4000000000000012,2.5200000000000014,2.5200000000000014,2.5200000000000014,2.5600000000000014,2.6000000000000014,2.6400000000000015,2.6800000000000015,2.7200000000000015,2.7600000000000016,2.7600000000000016,2.8000000000000016,2.8000000000000016,2.8400000000000016,2.8400000000000016,2.8400000000000016,2.8800000000000017,2.9200000000000017,3.080000000000002,3.120000000000002,3.120000000000002,3.160000000000002,3.240000000000002,3.280000000000002,3.360000000000002,3.440000000000002,3.480000000000002,3.5600000000000023,3.6000000000000023,3.6800000000000024,3.6800000000000024,3.8000000000000025,3.8000000000000025,3.8800000000000026,3.8800000000000026,4.040000000000003,4.120000000000003,4.240000000000003,4.360000000000003,4.440000000000003,4.480000000000003,4.520000000000003,4.720000000000003,4.720000000000003,4.760000000000003,4.840000000000003,4.8800000000000034,4.9200000000000035,4.9200000000000035,4.9600000000000035,5.0000000000000036,5.080000000000004,5.080000000000004,5.080000000000004,5.120000000000004,5.120000000000004,5.120000000000004,5.160000000000004,5.160000000000004,5.240000000000004,5.320000000000004,5.320000000000004,5.360000000000004,5.400000000000004,5.520000000000004,5.600000000000004,5.680000000000004,5.680000000000004,5.680000000000004,5.720000000000004,5.760000000000004,5.880000000000004,5.960000000000004,6.0400000000000045,6.0400000000000045,6.1200000000000045,6.200000000000005,6.240000000000005,6.240000000000005,6.360000000000005,6.440000000000005,6.520000000000005,6.560000000000005,6.640000000000005,6.640000000000005,6.760000000000005,6.760000000000005,6.920000000000005,6.960000000000005,7.000000000000005,7.040000000000005,7.040000000000005,7.080000000000005,7.080000000000005,7.120000000000005,7.2000000000000055,7.280000000000006,7.400000000000006,7.400000000000006,7.440000000000006,7.520000000000006,7.560000000000006,7.560000000000006,7.640000000000006,7.680000000000006,7.840000000000006,7.840000000000006,7.840000000000006,7.840000000000006,7.920000000000006,8.000000000000005,8.040000000000004,8.120000000000005,8.160000000000004,8.240000000000004,8.240000000000004,8.240000000000004,8.320000000000004,8.360000000000003,8.360000000000003,8.400000000000002,8.440000000000001,8.440000000000001,8.520000000000001,8.600000000000001,8.72,8.8,8.92,9.08,9.16,9.24,9.28,9.399999999999999,9.479999999999999,9.519999999999998,9.519999999999998,9.559999999999997,9.599999999999996,9.679999999999996,9.719999999999995,9.799999999999995,9.879999999999995,9.959999999999996,9.959999999999996,9.999999999999995,10.039999999999994,10.119999999999994,10.239999999999993,10.319999999999993,10.359999999999992,10.399999999999991,10.479999999999992,10.559999999999992,10.639999999999992,10.67999999999999,10.71999999999999,10.79999999999999,10.87999999999999,10.91999999999999,11.039999999999988,11.079999999999988,11.159999999999988,11.239999999999988,11.239999999999988,11.399999999999988,11.479999999999988,11.639999999999988,11.679999999999987,11.719999999999986,11.879999999999987,11.959999999999987,12.199999999999987,12.279999999999987,12.439999999999987,12.519999999999987,12.599999999999987,12.639999999999986,12.639999999999986,12.719999999999986]},\"selected\":{\"id\":\"6770\"},\"selection_policy\":{\"id\":\"6769\"}},\"id\":\"6516\",\"type\":\"ColumnDataSource\"},{\"attributes\":{\"data_source\":{\"id\":\"6516\"},\"glyph\":{\"id\":\"6517\"},\"hover_glyph\":null,\"muted_glyph\":null,\"nonselection_glyph\":{\"id\":\"6518\"},\"view\":{\"id\":\"6520\"}},\"id\":\"6519\",\"type\":\"GlyphRenderer\"},{\"attributes\":{},\"id\":\"6506\",\"type\":\"ResetTool\"},{\"attributes\":{\"line_color\":\"#1f77b4\",\"line_width\":2,\"x\":{\"field\":\"x\"},\"y\":{\"field\":\"y\"}},\"id\":\"6517\",\"type\":\"Line\"},{\"attributes\":{},\"id\":\"6507\",\"type\":\"HelpTool\"},{\"attributes\":{},\"id\":\"6505\",\"type\":\"SaveTool\"},{\"attributes\":{},\"id\":\"6762\",\"type\":\"AllLabels\"},{\"attributes\":{\"overlay\":{\"id\":\"6508\"}},\"id\":\"6504\",\"type\":\"BoxZoomTool\"},{\"attributes\":{},\"id\":\"6490\",\"type\":\"LinearScale\"},{\"attributes\":{},\"id\":\"6765\",\"type\":\"AllLabels\"},{\"attributes\":{},\"id\":\"6763\",\"type\":\"BasicTickFormatter\"},{\"attributes\":{\"active_multi\":null,\"tools\":[{\"id\":\"6502\"},{\"id\":\"6503\"},{\"id\":\"6504\"},{\"id\":\"6505\"},{\"id\":\"6506\"},{\"id\":\"6507\"}]},\"id\":\"6509\",\"type\":\"Toolbar\"},{\"attributes\":{},\"id\":\"6495\",\"type\":\"BasicTicker\"}],\"root_ids\":[\"6483\"]},\"title\":\"Bokeh Application\",\"version\":\"2.3.1\"}};\n",
       "  var render_items = [{\"docid\":\"ba0dacef-47b9-4eb3-adfd-4fa769f13931\",\"root_ids\":[\"6483\"],\"roots\":{\"6483\":\"c8d8382f-0530-4540-ab97-415f13a3100c\"}}];\n",
       "  root.Bokeh.embed.embed_items_notebook(docs_json, render_items);\n",
       "\n",
       "  }\n",
       "  if (root.Bokeh !== undefined) {\n",
       "    embed_document(root);\n",
       "  } else {\n",
       "    var attempts = 0;\n",
       "    var timer = setInterval(function(root) {\n",
       "      if (root.Bokeh !== undefined) {\n",
       "        clearInterval(timer);\n",
       "        embed_document(root);\n",
       "      } else {\n",
       "        attempts++;\n",
       "        if (attempts > 100) {\n",
       "          clearInterval(timer);\n",
       "          console.log(\"Bokeh: ERROR: Unable to run BokehJS code because BokehJS library is missing\");\n",
       "        }\n",
       "      }\n",
       "    }, 10, root)\n",
       "  }\n",
       "})(window);"
      ],
      "application/vnd.bokehjs_exec.v0+json": ""
     },
     "metadata": {
      "application/vnd.bokehjs_exec.v0+json": {
       "id": "6483"
      }
     },
     "output_type": "display_data"
    }
   ],
   "source": [
    "p = figure(\n",
    "    title=\"Cumulative sum of rewards\",\n",
    "    plot_width=800,\n",
    "    plot_height=250,\n",
    "    x_axis_label=\"Episodes\",\n",
    "    y_axis_label=\"Cumulative average sum of rewards\"\n",
    ")\n",
    "p.line(range(1, n_episodes + 1), cum_reward, line_width=2)\n",
    "\n",
    "show(p)"
   ]
  },
  {
   "cell_type": "markdown",
   "metadata": {},
   "source": [
    "3. Episode length"
   ]
  },
  {
   "cell_type": "code",
   "execution_count": 84,
   "metadata": {},
   "outputs": [
    {
     "data": {
      "text/html": [
       "\n",
       "\n",
       "\n",
       "\n",
       "\n",
       "\n",
       "  <div class=\"bk-root\" id=\"bda1cf43-4c6c-40c0-aa58-72b867cd1455\" data-root-id=\"6821\"></div>\n"
      ]
     },
     "metadata": {},
     "output_type": "display_data"
    },
    {
     "data": {
      "application/javascript": [
       "(function(root) {\n",
       "  function embed_document(root) {\n",
       "    \n",
       "  var docs_json = {\"58a952a5-8683-4fa9-8761-0fda4ddf561f\":{\"defs\":[],\"roots\":{\"references\":[{\"attributes\":{\"below\":[{\"id\":\"6832\"}],\"center\":[{\"id\":\"6835\"},{\"id\":\"6839\"}],\"height\":250,\"left\":[{\"id\":\"6836\"}],\"renderers\":[{\"id\":\"6857\"}],\"title\":{\"id\":\"6822\"},\"toolbar\":{\"id\":\"6847\"},\"width\":800,\"x_range\":{\"id\":\"6824\"},\"x_scale\":{\"id\":\"6828\"},\"y_range\":{\"id\":\"6826\"},\"y_scale\":{\"id\":\"6830\"}},\"id\":\"6821\",\"subtype\":\"Figure\",\"type\":\"Plot\"},{\"attributes\":{},\"id\":\"7114\",\"type\":\"BasicTickFormatter\"},{\"attributes\":{},\"id\":\"6843\",\"type\":\"SaveTool\"},{\"attributes\":{\"text\":\"Sum of rewards\"},\"id\":\"6822\",\"type\":\"Title\"},{\"attributes\":{\"overlay\":{\"id\":\"6846\"}},\"id\":\"6842\",\"type\":\"BoxZoomTool\"},{\"attributes\":{},\"id\":\"6844\",\"type\":\"ResetTool\"},{\"attributes\":{},\"id\":\"6840\",\"type\":\"PanTool\"},{\"attributes\":{},\"id\":\"6845\",\"type\":\"HelpTool\"},{\"attributes\":{\"axis_label\":\"Average episode length\",\"formatter\":{\"id\":\"7111\"},\"major_label_policy\":{\"id\":\"7110\"},\"ticker\":{\"id\":\"6837\"}},\"id\":\"6836\",\"type\":\"LinearAxis\"},{\"attributes\":{},\"id\":\"7111\",\"type\":\"BasicTickFormatter\"},{\"attributes\":{},\"id\":\"6837\",\"type\":\"BasicTicker\"},{\"attributes\":{\"axis\":{\"id\":\"6836\"},\"dimension\":1,\"ticker\":null},\"id\":\"6839\",\"type\":\"Grid\"},{\"attributes\":{},\"id\":\"7110\",\"type\":\"AllLabels\"},{\"attributes\":{},\"id\":\"6833\",\"type\":\"BasicTicker\"},{\"attributes\":{\"line_color\":\"#1f77b4\",\"line_width\":2,\"x\":{\"field\":\"x\"},\"y\":{\"field\":\"y\"}},\"id\":\"6855\",\"type\":\"Line\"},{\"attributes\":{},\"id\":\"6841\",\"type\":\"WheelZoomTool\"},{\"attributes\":{\"source\":{\"id\":\"6854\"}},\"id\":\"6858\",\"type\":\"CDSView\"},{\"attributes\":{},\"id\":\"6826\",\"type\":\"DataRange1d\"},{\"attributes\":{\"axis\":{\"id\":\"6832\"},\"ticker\":null},\"id\":\"6835\",\"type\":\"Grid\"},{\"attributes\":{\"bottom_units\":\"screen\",\"fill_alpha\":0.5,\"fill_color\":\"lightgrey\",\"left_units\":\"screen\",\"level\":\"overlay\",\"line_alpha\":1.0,\"line_color\":\"black\",\"line_dash\":[4,4],\"line_width\":2,\"right_units\":\"screen\",\"syncable\":false,\"top_units\":\"screen\"},\"id\":\"6846\",\"type\":\"BoxAnnotation\"},{\"attributes\":{},\"id\":\"6824\",\"type\":\"DataRange1d\"},{\"attributes\":{\"data_source\":{\"id\":\"6854\"},\"glyph\":{\"id\":\"6855\"},\"hover_glyph\":null,\"muted_glyph\":null,\"nonselection_glyph\":{\"id\":\"6856\"},\"view\":{\"id\":\"6858\"}},\"id\":\"6857\",\"type\":\"GlyphRenderer\"},{\"attributes\":{\"active_multi\":null,\"tools\":[{\"id\":\"6840\"},{\"id\":\"6841\"},{\"id\":\"6842\"},{\"id\":\"6843\"},{\"id\":\"6844\"},{\"id\":\"6845\"}]},\"id\":\"6847\",\"type\":\"Toolbar\"},{\"attributes\":{\"line_alpha\":0.1,\"line_color\":\"#1f77b4\",\"line_width\":2,\"x\":{\"field\":\"x\"},\"y\":{\"field\":\"y\"}},\"id\":\"6856\",\"type\":\"Line\"},{\"attributes\":{},\"id\":\"6830\",\"type\":\"LinearScale\"},{\"attributes\":{\"data\":{\"x\":[1,2,3,4,5,6,7,8,9,10,11,12,13,14,15,16,17,18,19,20,21,22,23,24,25,26,27,28,29,30,31,32,33,34,35,36,37,38,39,40,41,42,43,44,45,46,47,48,49,50,51,52,53,54,55,56,57,58,59,60,61,62,63,64,65,66,67,68,69,70,71,72,73,74,75,76,77,78,79,80,81,82,83,84,85,86,87,88,89,90,91,92,93,94,95,96,97,98,99,100,101,102,103,104,105,106,107,108,109,110,111,112,113,114,115,116,117,118,119,120,121,122,123,124,125,126,127,128,129,130,131,132,133,134,135,136,137,138,139,140,141,142,143,144,145,146,147,148,149,150,151,152,153,154,155,156,157,158,159,160,161,162,163,164,165,166,167,168,169,170,171,172,173,174,175,176,177,178,179,180,181,182,183,184,185,186,187,188,189,190,191,192,193,194,195,196,197,198,199,200,201,202,203,204,205,206,207,208,209,210,211,212,213,214,215,216,217,218,219,220,221,222,223,224,225,226,227,228,229,230,231,232,233,234,235,236,237,238,239,240,241,242,243,244,245,246,247,248,249,250,251,252,253,254,255,256,257,258,259,260,261,262,263,264,265,266,267,268,269,270,271,272,273,274,275,276,277,278,279,280,281,282,283,284,285,286,287,288,289,290,291,292,293,294,295,296,297,298,299,300],\"y\":[7.88,7.88,7.88,7.88,7.88,7.88,7.88,7.88,7.88,7.88,7.88,7.88,7.88,7.88,7.88,7.88,7.88,7.88,7.88,7.88,7.88,7.88,7.88,7.88,7.88,7.88,7.88,7.88,7.88,7.88,7.88,7.88,7.88,7.88,7.88,7.88,7.88,7.88,7.88,7.88,7.88,7.88,7.88,7.88,7.88,7.88,7.88,7.88,7.88,7.88,7.88,7.88,7.88,7.88,7.88,7.88,7.88,7.88,7.88,7.88,7.88,7.88,7.88,7.88,7.88,7.88,7.88,7.88,7.88,7.88,7.88,7.88,7.88,7.88,7.88,7.88,7.88,7.88,7.88,7.88,7.88,7.88,7.88,7.88,7.88,7.88,7.88,7.88,7.88,7.88,7.88,7.88,7.88,7.88,7.88,7.88,7.88,7.88,7.88,7.88,7.88,7.88,7.88,7.88,7.88,7.88,7.88,7.88,7.88,7.88,7.88,7.88,7.88,7.88,7.88,7.88,7.88,7.88,7.88,7.88,7.88,7.88,7.88,7.88,7.88,7.88,7.88,7.88,7.88,7.88,7.88,7.88,7.88,7.88,7.88,7.88,7.88,7.88,7.88,7.88,7.88,7.88,7.88,7.88,7.88,7.88,7.88,7.88,7.88,7.88,7.88,7.88,7.88,7.88,7.88,7.88,7.88,7.88,7.88,7.88,7.88,7.88,7.88,7.88,7.88,7.88,7.88,7.88,7.88,7.88,7.88,7.88,7.88,7.88,7.88,7.88,7.88,7.88,7.88,7.88,7.88,7.88,7.88,7.88,7.88,7.88,7.88,7.88,7.88,7.88,7.88,7.88,7.88,7.88,7.88,7.88,7.88,7.88,7.88,7.88,7.88,7.88,7.88,7.88,7.88,7.88,7.88,7.88,7.88,7.88,7.88,7.88,7.88,7.88,7.88,7.88,7.88,7.88,7.88,7.88,7.88,7.88,7.88,7.88,7.88,7.88,7.88,7.88,7.88,7.88,7.88,7.88,7.88,7.88,7.88,7.88,7.88,7.88,7.88,7.88,7.88,7.88,7.88,7.88,7.88,7.88,7.88,7.88,7.88,7.88,7.88,7.88,7.88,7.88,7.88,7.88,7.88,7.88,7.88,7.88,7.88,7.88,7.88,7.88,7.88,7.88,7.88,7.88,7.88,7.88,7.88,7.88,7.88,7.88,7.88,7.88,7.88,7.88,7.88,7.88,7.88,7.88,7.88,7.88,7.88,7.88,7.88,7.88,7.88,7.88,7.88,7.88,7.88,7.88,7.88,7.88,7.88,7.88,7.88,7.88]},\"selected\":{\"id\":\"7118\"},\"selection_policy\":{\"id\":\"7117\"}},\"id\":\"6854\",\"type\":\"ColumnDataSource\"},{\"attributes\":{},\"id\":\"7117\",\"type\":\"UnionRenderers\"},{\"attributes\":{},\"id\":\"6828\",\"type\":\"LinearScale\"},{\"attributes\":{\"axis_label\":\"Episodes\",\"formatter\":{\"id\":\"7114\"},\"major_label_policy\":{\"id\":\"7113\"},\"ticker\":{\"id\":\"6833\"}},\"id\":\"6832\",\"type\":\"LinearAxis\"},{\"attributes\":{},\"id\":\"7118\",\"type\":\"Selection\"},{\"attributes\":{},\"id\":\"7113\",\"type\":\"AllLabels\"}],\"root_ids\":[\"6821\"]},\"title\":\"Bokeh Application\",\"version\":\"2.3.1\"}};\n",
       "  var render_items = [{\"docid\":\"58a952a5-8683-4fa9-8761-0fda4ddf561f\",\"root_ids\":[\"6821\"],\"roots\":{\"6821\":\"bda1cf43-4c6c-40c0-aa58-72b867cd1455\"}}];\n",
       "  root.Bokeh.embed.embed_items_notebook(docs_json, render_items);\n",
       "\n",
       "  }\n",
       "  if (root.Bokeh !== undefined) {\n",
       "    embed_document(root);\n",
       "  } else {\n",
       "    var attempts = 0;\n",
       "    var timer = setInterval(function(root) {\n",
       "      if (root.Bokeh !== undefined) {\n",
       "        clearInterval(timer);\n",
       "        embed_document(root);\n",
       "      } else {\n",
       "        attempts++;\n",
       "        if (attempts > 100) {\n",
       "          clearInterval(timer);\n",
       "          console.log(\"Bokeh: ERROR: Unable to run BokehJS code because BokehJS library is missing\");\n",
       "        }\n",
       "      }\n",
       "    }, 10, root)\n",
       "  }\n",
       "})(window);"
      ],
      "application/vnd.bokehjs_exec.v0+json": ""
     },
     "metadata": {
      "application/vnd.bokehjs_exec.v0+json": {
       "id": "6821"
      }
     },
     "output_type": "display_data"
    }
   ],
   "source": [
    "# This might be interesting when the environment is stochastic\n",
    "p = figure(\n",
    "    title=\"Sum of rewards\",\n",
    "    plot_width=800,\n",
    "    plot_height=250,\n",
    "    x_axis_label=\"Episodes\",\n",
    "    y_axis_label=\"Average episode length\"\n",
    ")\n",
    "p.line(range(1, n_episodes + 1), avg_episode_len, line_width=2)\n",
    "\n",
    "show(p)"
   ]
  }
 ],
 "metadata": {
  "kernelspec": {
   "display_name": "Python 3",
   "language": "python",
   "name": "python3"
  },
  "language_info": {
   "codemirror_mode": {
    "name": "ipython",
    "version": 3
   },
   "file_extension": ".py",
   "mimetype": "text/x-python",
   "name": "python",
   "nbconvert_exporter": "python",
   "pygments_lexer": "ipython3",
   "version": "3.9.1"
  }
 },
 "nbformat": 4,
 "nbformat_minor": 4
}
